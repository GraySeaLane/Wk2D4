{
 "cells": [
  {
   "cell_type": "markdown",
   "metadata": {},
   "source": [
    "# User-Defined Functions & Scoping"
   ]
  },
  {
   "cell_type": "markdown",
   "metadata": {},
   "source": [
    "## Tasks Today:\n",
    "\n",
    "\n",
    "1) Functions <br>\n",
    " &nbsp;&nbsp;&nbsp;&nbsp; a) User-Defined vs. Built-In Functions <br>\n",
    " &nbsp;&nbsp;&nbsp;&nbsp; b) Accepting Parameters <br>\n",
    " &nbsp;&nbsp;&nbsp;&nbsp; c) Default Parameters <br>\n",
    " &nbsp;&nbsp;&nbsp;&nbsp; d) Making an Argument Optional <br>\n",
    " &nbsp;&nbsp;&nbsp;&nbsp; e) Keyword Arguments <br>\n",
    " &nbsp;&nbsp;&nbsp;&nbsp; f) Returning Values <br>\n",
    " &nbsp;&nbsp;&nbsp;&nbsp; g) *args <br>\n",
    " &nbsp;&nbsp;&nbsp;&nbsp; h) Docstring <br>\n",
    " &nbsp;&nbsp;&nbsp;&nbsp; i) Using a User Function in a Loop <br>\n",
    "2) Scope\n",
    "3) Creating more User-Defined functions "
   ]
  },
  {
   "cell_type": "markdown",
   "metadata": {},
   "source": [
    "\n",
    "## Functions"
   ]
  },
  {
   "cell_type": "markdown",
   "metadata": {},
   "source": [
    "##### User-Defined vs. Built-In Functions"
   ]
  },
  {
   "cell_type": "code",
   "execution_count": 13,
   "metadata": {},
   "outputs": [
    {
     "name": "stdout",
     "output_type": "stream",
     "text": [
      "hello\n"
     ]
    }
   ],
   "source": [
    "#Built in function\n",
    "#print(\"hello\")\n",
    "print(\"hello\")"
   ]
  },
  {
   "cell_type": "code",
   "execution_count": 15,
   "metadata": {},
   "outputs": [
    {
     "name": "stdout",
     "output_type": "stream",
     "text": [
      "hello again\n",
      "HELLO AGAIN\n",
      "Hello\n"
     ]
    }
   ],
   "source": [
    "#user defined function def keyword- defines function\n",
    "# def (can be any name, just a var name) followed by paranthesis **NOT ALL FUNCTIONS WILL ACCEPT PARAMETERS***\n",
    "\n",
    "def say_hello():\n",
    "    return \"hello\" #output of function\n",
    "    #return will give us a tangible value to work with, pass into other functions\n",
    "\n",
    "say_hello()\n",
    "\n",
    "#call function by typing the name of function followed by parathesis ()\n",
    "\n",
    "def say_hello2():\n",
    "    return \"hello again\"\n",
    "say_hello2()\n",
    "\n",
    "output = say_hello2()\n",
    "\n",
    "print(output)\n",
    "\n",
    "print(say_hello2().upper())\n",
    "\n",
    "def say_hello3():\n",
    "    hello = say_hello() #setting variable\n",
    "    return hello.title()\n",
    "\n",
    "print(say_hello3())"
   ]
  },
  {
   "cell_type": "markdown",
   "metadata": {},
   "source": [
    "##### Accepting Parameters"
   ]
  },
  {
   "cell_type": "code",
   "execution_count": 22,
   "metadata": {
    "scrolled": true
   },
   "outputs": [
    {
     "name": "stdout",
     "output_type": "stream",
     "text": [
      "{'Hello there': 'general'}\n",
      "The scary pumpkin sleeps to the bathroom\n",
      "The smooth ninja runs to the bathroom\n"
     ]
    }
   ],
   "source": [
    "# elements passed into a function\n",
    "# variables to hold the place of items our function will act upon\n",
    "# order matters\n",
    "# a parameter can be of any object type (data type)\n",
    "                #parameter holding the place of any possible list we can pass in\n",
    "# def square_even(parameter):\n",
    "\n",
    "# def square_even(a_list):\n",
    "#     for num in potato:\n",
    "#         if num % 2 == 0:\n",
    "#                   parameter\n",
    "def print_something(something):\n",
    "    return something\n",
    "#  when calling a function, the thing you put in the parantheses\n",
    "# is called an argument\n",
    "#the difference between a parameter and an argument:\n",
    "# a parameter is a place holder for an argument\n",
    "# an argument is what the function acts on\n",
    "#                     argument\n",
    "print(print_something({'hello there': 'general kenobi'}))\n",
    "# we can call the same function several times with different arguments and get a different output each time\n",
    "def adlib(noun, adjective, verb):\n",
    "    return f\"The {adjective} {noun} {verb} to the bathroom\"\n",
    "print(adlib(\"pumpkin\", \"scary\", \"sleeps\"))\n",
    "\n",
    "print(adlib(\"car\", \"furious\", \"drives\"))\n",
    "\n",
    "# Write a function that loops through a given list and returns a list with only the even numbers squared.\n",
    "#               parameter \n",
    "\n",
    "list1 = [2,3,4,5,6,7,8]\n",
    "list2 = [4, 18, 3, 13, 16, 10, 27]\n",
    "def square_even(a_list):\n",
    "    blist = []\n",
    "    #         function is acting on the parameter\n",
    "    for num in a_list:\n",
    "        if num % 2 == 0:\n",
    "            blist.append(num**2)\n",
    "#         output a list with all of our numbers squared\n",
    "    return(blist)\n",
    "#                  argument \n",
    "print(square_even(list1))\n",
    "#                  argument \n",
    "print(square_even(list2))"
   ]
  },
  {
   "cell_type": "code",
   "execution_count": null,
   "metadata": {},
   "outputs": [],
   "source": []
  },
  {
   "cell_type": "markdown",
   "metadata": {},
   "source": [
    "##### Default Parameters"
   ]
  },
  {
   "cell_type": "code",
   "execution_count": 27,
   "metadata": {},
   "outputs": [
    {
     "name": "stdout",
     "output_type": "stream",
     "text": [
      "The name is Bond, James, Bond, 007\n",
      "The name is Borf, Jimmy, Borf, 008\n"
     ]
    }
   ],
   "source": [
    "# default parameters must always come after non-default parameters at all times forever and ever...or else\n",
    "#example of what happens when too many or few arguments are provided\n",
    "# def print_name(name):\n",
    "#     return name\n",
    "# print(print_name(\"Ryan\"))\n",
    "\n",
    "def agent_name(first_name, last_name = \"Bond\", middle_name = \"007\"):\n",
    "    return f\"The name is {last_name}, {first_name}, {last_name}, {middle_name}\"\n",
    "\n",
    "print(agent_name(\"James\"))\n",
    "print(agent_name(\"Jimmy\", \"Borf\", \"008\"))\n",
    "\n"
   ]
  },
  {
   "cell_type": "code",
   "execution_count": null,
   "metadata": {},
   "outputs": [],
   "source": [
    "# default parameters must always come after non-default parameters at all times forever and ever...or else\n",
    "\n"
   ]
  },
  {
   "cell_type": "markdown",
   "metadata": {},
   "source": [
    "##### Making an Argument Optional"
   ]
  },
  {
   "cell_type": "code",
   "execution_count": 31,
   "metadata": {},
   "outputs": [
    {
     "name": "stdout",
     "output_type": "stream",
     "text": [
      "Hello Mr. Cool Guy Ed\n",
      "Hello Mr. Shadowfax \n"
     ]
    }
   ],
   "source": [
    "def print_horse_name(first, middle=\"\", last=\"Ed\"):\n",
    "    return f\"Hello {first} {middle} {last}\"\n",
    "print(print_horse_name(\"Mr.\", \"Cool Guy\"))\n",
    "print(print_horse_name(\"Mr.\", \"Shadowfax\", \"\"))\n",
    "\n",
    "#if arguemtn not provided, it will come empty\n"
   ]
  },
  {
   "cell_type": "markdown",
   "metadata": {},
   "source": [
    "##### Keyword Arguments"
   ]
  },
  {
   "cell_type": "code",
   "execution_count": 32,
   "metadata": {},
   "outputs": [
    {
     "name": "stdout",
     "output_type": "stream",
     "text": [
      "10\n"
     ]
    }
   ],
   "source": [
    "#keyword arguments must follow positional arugments\n",
    "\n",
    "def subtract_nums(num1, num2, num3):\n",
    "    return num3 - num2 - num1\n",
    "\n",
    "print(subtract_nums(10, 20, 40))\n",
    "\n"
   ]
  },
  {
   "cell_type": "code",
   "execution_count": 34,
   "metadata": {},
   "outputs": [
    {
     "name": "stdout",
     "output_type": "stream",
     "text": [
      "batman's power is money and their secret identity is Bruce Wayne\n"
     ]
    }
   ],
   "source": [
    "#keyword arguments are variables that are created when the function is called\n",
    "def print_hero(name, secret_identity, power=\"flying\"):\n",
    "    return f\"{name}'s power is {power} and their secret identity is {secret_identity}\"\n",
    "print(print_hero(power=\"money\", name=\"batman\", secret_identity=\"Bruce Wayne\"))"
   ]
  },
  {
   "cell_type": "markdown",
   "metadata": {},
   "source": [
    "# Creating a start, stop, step function"
   ]
  },
  {
   "cell_type": "code",
   "execution_count": 40,
   "metadata": {
    "scrolled": true
   },
   "outputs": [
    {
     "name": "stdout",
     "output_type": "stream",
     "text": [
      "1\n"
     ]
    }
   ],
   "source": [
    "def my_range(stop, start=0, step =1):\n",
    "    for i in range(start, stop, step):\n",
    "        return i\n",
    "    return \"Hey great job, you're beautiful!\"\n",
    "print(my_range(20, 1, 2))"
   ]
  },
  {
   "cell_type": "code",
   "execution_count": 42,
   "metadata": {},
   "outputs": [
    {
     "name": "stdout",
     "output_type": "stream",
     "text": [
      "1\n",
      "3\n",
      "5\n",
      "7\n",
      "9\n",
      "11\n",
      "13\n"
     ]
    },
    {
     "data": {
      "text/plain": [
       "[1, 3, 5, 7, 9, 11, 13]"
      ]
     },
     "execution_count": 42,
     "metadata": {},
     "output_type": "execute_result"
    }
   ],
   "source": [
    "def my_range(stop, start = 0, step = 1):\n",
    "    range_list = []\n",
    "    while start < stop:\n",
    "        print(start)\n",
    "        range_list.append(start)\n",
    "        start += step\n",
    "    return range_list\n",
    "my_range(15, 1, 2)"
   ]
  },
  {
   "cell_type": "markdown",
   "metadata": {},
   "source": [
    "##### Returning Values"
   ]
  },
  {
   "cell_type": "code",
   "execution_count": 43,
   "metadata": {},
   "outputs": [
    {
     "data": {
      "text/plain": [
       "'something'"
      ]
     },
     "execution_count": 43,
     "metadata": {},
     "output_type": "execute_result"
    }
   ],
   "source": [
    "#returning a value gives a function an output\n",
    "def return_something(something):\n",
    "    return something\n",
    "return_something(\"something\")"
   ]
  },
  {
   "cell_type": "markdown",
   "metadata": {},
   "source": [
    "##### *args / **kwargs (keyword arguments)"
   ]
  },
  {
   "cell_type": "code",
   "execution_count": 46,
   "metadata": {},
   "outputs": [
    {
     "name": "stdout",
     "output_type": "stream",
     "text": [
      "These are my positional arguements 20 23 why\n",
      "These are my *args ('sad', 'Panda')\n"
     ]
    }
   ],
   "source": [
    "#*args, **kwargs\n",
    "# *args stands for arguments and will allow the function to take in any number of arguments\n",
    "# **kwargs stands for key word arguments and will allow the function to take in any number of keyword arguments\n",
    "# if other parameters are present, args and kwarfs must go last\n",
    "\n",
    "def print_args(num1, num2, name, *args, **kwargs):\n",
    "    print(\"These are my positional arguements\", num1, num2, name)\n",
    "    print(\"These are my *args\", args)\n",
    "    print(\"These are my **kwargs\", kwargs)\n",
    "\n",
    "print_args(20, 23, \"why\", \"sad\", \"Panda\")\n",
    "\n"
   ]
  },
  {
   "cell_type": "code",
   "execution_count": 51,
   "metadata": {},
   "outputs": [
    {
     "name": "stdout",
     "output_type": "stream",
     "text": [
      "Dharti\n",
      "\n",
      "Desiree\n",
      "Ben\n",
      "Enoch\n",
      "Swan\n",
      "Aristo\n",
      "Hyun-Tae\n",
      "Lyle\n",
      "Abdel\n",
      "Chicago\n",
      "Queens\n",
      "Los Angeles\n",
      "Plano\n",
      "Las Vegas\n",
      "Portland\n",
      "Pittsburgh\n",
      "Seattle\n",
      "Fairfax\n",
      "Looping through all of our *args: \n",
      "('Krillin', 'Goku', 'Piccolo', 'Dende', 'Gohan')\n",
      "Krillin\n",
      "Goku\n",
      "Piccolo\n",
      "Dende\n",
      "Gohan\n",
      "{'Krillin': 'Destructo Disc', 'Goku': 'Kamehameha', 'Piccolo': 'Special Beam Cannon', 'Gohan': 'Masenko'}\n",
      "Krillin's special move is Destructo Disc\n",
      "Goku's special move is Kamehameha\n",
      "Piccolo's special move is Special Beam Cannon\n",
      "Gohan's special move is Masenko\n"
     ]
    }
   ],
   "source": [
    "def print_more_args(*names, **locations):\n",
    "    for name in names:\n",
    "        print(name)\n",
    "    \n",
    "#     places = locations['cities']\n",
    "    \n",
    "    for city in locations['cities']:\n",
    "        print(city)\n",
    "print_more_args(\"Dharti\", \"\", \"Desiree\", \"Ben\", \"Enoch\", \"Swan\", \"Aristo\", \"Hyun-Tae\", \"Lyle\", \"Abdel\",\n",
    "              cities=['Chicago', \"Queens\", \"Los Angeles\", \"Plano\", \"Las Vegas\", \"Portland\", \"Pittsburgh\", \"Seattle\", \"Fairfax\"])\n",
    "\n",
    "\n",
    "locations = {'cities': ['list of cities']}\n",
    "\n",
    "#another example\n",
    "\n",
    "def dbz_info(*characters, **signature_moves):\n",
    "    print(\"Looping through all of our *args: \")\n",
    "    print(characters)\n",
    "    for char in characters:\n",
    "        print(char)\n",
    "    print(signature_moves)\n",
    "    for k,v in signature_moves.items():\n",
    "        print(f\"{k}'s special move is {v}\")\n",
    "        \n",
    "dbz_info(\"Krillin\", \"Goku\", \"Piccolo\", \"Dende\", \"Gohan\", Krillin = \"Destructo Disc\", Goku = \"Kamehameha\", Piccolo = \"Special Beam Cannon\", Gohan = \"Masenko\")"
   ]
  },
  {
   "cell_type": "markdown",
   "metadata": {},
   "source": [
    "##### Docstring"
   ]
  },
  {
   "cell_type": "code",
   "execution_count": 55,
   "metadata": {},
   "outputs": [
    {
     "ename": "IndentationError",
     "evalue": "expected an indented block after function definition on line 4 (2766529401.py, line 6)",
     "output_type": "error",
     "traceback": [
      "\u001b[0;36m  Cell \u001b[0;32mIn[55], line 6\u001b[0;36m\u001b[0m\n\u001b[0;31m    \"\"\"\u001b[0m\n\u001b[0m    ^\u001b[0m\n\u001b[0;31mIndentationError\u001b[0m\u001b[0;31m:\u001b[0m expected an indented block after function definition on line 4\n"
     ]
    }
   ],
   "source": [
    "# docstrings are a really nice way to leave notes about funciontality in your code\n",
    "# provide instructions\n",
    "\n",
    "def title_names(arr):\n",
    "    \n",
    "\"\"\"\n",
    "title names(arr)\n",
    "Function expects a list of strings to be passed in as an argument \n",
    "IT will loop through the list of springs, capatilize them, \n",
    "and return a new list with the title-cased strings.\n",
    "\"\"\"\n",
    "\n",
    "titles = []\n",
    "    for name in arr:\n",
    "        titles.append(name.title())\n",
    "    \n",
    "    return titles\n",
    "\n",
    "help(title_names)"
   ]
  },
  {
   "cell_type": "markdown",
   "metadata": {},
   "source": [
    "##### Using a User Function in a Loop"
   ]
  },
  {
   "cell_type": "code",
   "execution_count": null,
   "metadata": {},
   "outputs": [],
   "source": [
    "# dictionary\n",
    "\n",
    "store = {}\n"
   ]
  },
  {
   "cell_type": "code",
   "execution_count": 58,
   "metadata": {},
   "outputs": [
    {
     "name": "stdout",
     "output_type": "stream",
     "text": [
      "add somethinghghkgh\n",
      "add somethingghjkh\n"
     ]
    }
   ],
   "source": [
    "\n",
    "def add_to_store(storage):\n",
    "    item = input(\"add something\")\n",
    "    quantity = input (\"add something\")\n",
    "    \n",
    "    storage[item] = quantity\n",
    "    \n",
    "    \n",
    "add_to_store(store)\n"
   ]
  },
  {
   "cell_type": "code",
   "execution_count": null,
   "metadata": {
    "scrolled": true
   },
   "outputs": [],
   "source": [
    "print(store)"
   ]
  },
  {
   "cell_type": "code",
   "execution_count": null,
   "metadata": {},
   "outputs": [],
   "source": [
    "print(new_store)"
   ]
  },
  {
   "cell_type": "code",
   "execution_count": 59,
   "metadata": {},
   "outputs": [],
   "source": [
    "cart = {}\n",
    "\n",
    "def add_item(user_cart):\n",
    "    item = input(\"What would you like to add? \")\n",
    "    quantity = int(input(f\"How many {item} would you like to add? \"))\n",
    "    \n",
    "    if item not in user_cart:\n",
    "        user_cart[item] = quantity\n",
    "    else:\n",
    "        user_cart[item] += quantity\n",
    "        \n",
    "def remove_item(user_cart):\n",
    "    item = input(\"What would you like to remove from your cart? \")\n",
    "    del user_cart[item]\n",
    "    \n",
    "def view_cart(user_cart):\n",
    "    print(user_cart)\n",
    "    \n",
    "def run(user_cart):\n",
    "    while True:\n",
    "        response = input(\"What would you like to do? add, remove, show, quit?\")\n",
    "        if response.lower() == \"add\":\n",
    "            add_item(user_cart)\n",
    "        elif response.lower() == \"remove\":\n",
    "            remove_item(user_cart)\n",
    "        elif response.lower() == \"show\":\n",
    "            view_cart(user_cart)\n",
    "        elif response.lower() == \"quit\":\n",
    "            \n",
    "            print(user_cart)\n",
    "            break\n",
    "        else:\n",
    "            print(\"Please enter a valid response\")"
   ]
  },
  {
   "cell_type": "code",
   "execution_count": 60,
   "metadata": {},
   "outputs": [
    {
     "ename": "KeyboardInterrupt",
     "evalue": "Interrupted by user",
     "output_type": "error",
     "traceback": [
      "\u001b[0;31m---------------------------------------------------------------------------\u001b[0m",
      "\u001b[0;31mKeyboardInterrupt\u001b[0m                         Traceback (most recent call last)",
      "Cell \u001b[0;32mIn[60], line 1\u001b[0m\n\u001b[0;32m----> 1\u001b[0m run(cart)\n",
      "Cell \u001b[0;32mIn[59], line 21\u001b[0m, in \u001b[0;36mrun\u001b[0;34m(user_cart)\u001b[0m\n\u001b[1;32m     19\u001b[0m \u001b[38;5;28;01mdef\u001b[39;00m \u001b[38;5;21mrun\u001b[39m(user_cart):\n\u001b[1;32m     20\u001b[0m     \u001b[38;5;28;01mwhile\u001b[39;00m \u001b[38;5;28;01mTrue\u001b[39;00m:\n\u001b[0;32m---> 21\u001b[0m         response \u001b[38;5;241m=\u001b[39m \u001b[38;5;28minput\u001b[39m(\u001b[38;5;124m\"\u001b[39m\u001b[38;5;124mWhat would you like to do? add, remove, show, quit?\u001b[39m\u001b[38;5;124m\"\u001b[39m)\n\u001b[1;32m     22\u001b[0m         \u001b[38;5;28;01mif\u001b[39;00m response\u001b[38;5;241m.\u001b[39mlower() \u001b[38;5;241m==\u001b[39m \u001b[38;5;124m\"\u001b[39m\u001b[38;5;124madd\u001b[39m\u001b[38;5;124m\"\u001b[39m:\n\u001b[1;32m     23\u001b[0m             add_item(user_cart)\n",
      "File \u001b[0;32m~/anaconda3/lib/python3.11/site-packages/ipykernel/kernelbase.py:1202\u001b[0m, in \u001b[0;36mKernel.raw_input\u001b[0;34m(self, prompt)\u001b[0m\n\u001b[1;32m   1200\u001b[0m     msg \u001b[38;5;241m=\u001b[39m \u001b[38;5;124m\"\u001b[39m\u001b[38;5;124mraw_input was called, but this frontend does not support input requests.\u001b[39m\u001b[38;5;124m\"\u001b[39m\n\u001b[1;32m   1201\u001b[0m     \u001b[38;5;28;01mraise\u001b[39;00m StdinNotImplementedError(msg)\n\u001b[0;32m-> 1202\u001b[0m \u001b[38;5;28;01mreturn\u001b[39;00m \u001b[38;5;28mself\u001b[39m\u001b[38;5;241m.\u001b[39m_input_request(\n\u001b[1;32m   1203\u001b[0m     \u001b[38;5;28mstr\u001b[39m(prompt),\n\u001b[1;32m   1204\u001b[0m     \u001b[38;5;28mself\u001b[39m\u001b[38;5;241m.\u001b[39m_parent_ident[\u001b[38;5;124m\"\u001b[39m\u001b[38;5;124mshell\u001b[39m\u001b[38;5;124m\"\u001b[39m],\n\u001b[1;32m   1205\u001b[0m     \u001b[38;5;28mself\u001b[39m\u001b[38;5;241m.\u001b[39mget_parent(\u001b[38;5;124m\"\u001b[39m\u001b[38;5;124mshell\u001b[39m\u001b[38;5;124m\"\u001b[39m),\n\u001b[1;32m   1206\u001b[0m     password\u001b[38;5;241m=\u001b[39m\u001b[38;5;28;01mFalse\u001b[39;00m,\n\u001b[1;32m   1207\u001b[0m )\n",
      "File \u001b[0;32m~/anaconda3/lib/python3.11/site-packages/ipykernel/kernelbase.py:1245\u001b[0m, in \u001b[0;36mKernel._input_request\u001b[0;34m(self, prompt, ident, parent, password)\u001b[0m\n\u001b[1;32m   1242\u001b[0m \u001b[38;5;28;01mexcept\u001b[39;00m \u001b[38;5;167;01mKeyboardInterrupt\u001b[39;00m:\n\u001b[1;32m   1243\u001b[0m     \u001b[38;5;66;03m# re-raise KeyboardInterrupt, to truncate traceback\u001b[39;00m\n\u001b[1;32m   1244\u001b[0m     msg \u001b[38;5;241m=\u001b[39m \u001b[38;5;124m\"\u001b[39m\u001b[38;5;124mInterrupted by user\u001b[39m\u001b[38;5;124m\"\u001b[39m\n\u001b[0;32m-> 1245\u001b[0m     \u001b[38;5;28;01mraise\u001b[39;00m \u001b[38;5;167;01mKeyboardInterrupt\u001b[39;00m(msg) \u001b[38;5;28;01mfrom\u001b[39;00m \u001b[38;5;28;01mNone\u001b[39;00m\n\u001b[1;32m   1246\u001b[0m \u001b[38;5;28;01mexcept\u001b[39;00m \u001b[38;5;167;01mException\u001b[39;00m:\n\u001b[1;32m   1247\u001b[0m     \u001b[38;5;28mself\u001b[39m\u001b[38;5;241m.\u001b[39mlog\u001b[38;5;241m.\u001b[39mwarning(\u001b[38;5;124m\"\u001b[39m\u001b[38;5;124mInvalid Message:\u001b[39m\u001b[38;5;124m\"\u001b[39m, exc_info\u001b[38;5;241m=\u001b[39m\u001b[38;5;28;01mTrue\u001b[39;00m)\n",
      "\u001b[0;31mKeyboardInterrupt\u001b[0m: Interrupted by user"
     ]
    }
   ],
   "source": [
    "run(cart)"
   ]
  },
  {
   "cell_type": "markdown",
   "metadata": {},
   "source": [
    "## Function Exercises <br>\n",
    "### Exercise 1\n",
    "<p>Write a function that loops through a list of first_names and a list of last_names, combines the two and return a list of full_names</p>"
   ]
  },
  {
   "cell_type": "code",
   "execution_count": null,
   "metadata": {},
   "outputs": [],
   "source": []
  },
  {
   "cell_type": "code",
   "execution_count": null,
   "metadata": {},
   "outputs": [],
   "source": [
    "first_name = ['John', 'Evan', 'Jordan', 'Max', \"James\"]\n",
    "last_name = ['Smith', 'Smith', 'Williams', 'Bell']\n",
    "\n",
    "# Output: ['John Smith', 'Evan Smith', 'Jordan Williams', 'Max Bell']\n"
   ]
  },
  {
   "cell_type": "code",
   "execution_count": null,
   "metadata": {},
   "outputs": [],
   "source": [
    "def name_arr_combiner(arr1,arr2):\n",
    "    ret_arr=[]\n",
    "    if len(arr1) != len(arr2):\n",
    "        print(\"Different amount of first and last names!!!!!\")\n",
    "    else:\n",
    "        for i in range(0,len(arr1)):\n",
    "            ret_arr.append(arr1[i]+\" \"+arr2[i])\n",
    "        return ret_arr\n",
    "name_arr_combiner(first_name, last_name)"
   ]
  },
  {
   "cell_type": "code",
   "execution_count": 64,
   "metadata": {},
   "outputs": [
    {
     "data": {
      "text/plain": [
       "['John Smith', 'Evan Smith', 'Jordan Williams', 'Max Bell']"
      ]
     },
     "execution_count": 64,
     "metadata": {},
     "output_type": "execute_result"
    }
   ],
   "source": [
    "first_name = ['John', 'Evan', 'Jordan', 'Max']\n",
    "last_name = ['Smith', 'Smith', 'Williams', 'Bell']\n",
    "\n",
    "def full_names(first_names, last_names):\n",
    "    full_name = []\n",
    "    if len(first_names) != len(last_names):\n",
    "        print(\"Those two lists are of different lengths! And i dont want to deal with that!\")\n",
    "        return full_name\n",
    "    else:\n",
    "        for i in range(len(first_names)):\n",
    "            full_name.append(first_names[i] + \" \" + last_names[i])\n",
    "    return full_name\n",
    "\n",
    "\n",
    "# Output: ['John Smith', 'Evan Smith', 'Jordan Williams', 'Max Bell']\n",
    "full_names(first_name,last_name)"
   ]
  },
  {
   "cell_type": "markdown",
   "metadata": {},
   "source": [
    "### Exercise 2\n",
    "Create a function that alters all values in the given list by subtracting 5 and then doubling them."
   ]
  },
  {
   "cell_type": "code",
   "execution_count": null,
   "metadata": {},
   "outputs": [],
   "source": []
  },
  {
   "cell_type": "code",
   "execution_count": null,
   "metadata": {},
   "outputs": [],
   "source": [
    "input_list = [5,10,15,20,3]\n",
    "# output = [0,10,20,30,-4]\n",
    "\n"
   ]
  },
  {
   "cell_type": "code",
   "execution_count": 5,
   "metadata": {},
   "outputs": [
    {
     "name": "stdout",
     "output_type": "stream",
     "text": [
      "[0, 10, 20, 30, -4]\n"
     ]
    }
   ],
   "source": [
    "input_list = [5,10,15,20,3]\n",
    "# output = [0,10,20,30,-4]\n",
    "\n",
    "\n",
    "def func(list9):\n",
    "    return [(i-5)*2 for i in list9]\n",
    "\n",
    "print(func(input_list))"
   ]
  },
  {
   "cell_type": "code",
   "execution_count": null,
   "metadata": {},
   "outputs": [],
   "source": []
  },
  {
   "cell_type": "code",
   "execution_count": null,
   "metadata": {},
   "outputs": [],
   "source": []
  },
  {
   "cell_type": "markdown",
   "metadata": {},
   "source": [
    "### Exercise 3\n",
    "Create a function that takes in a list of strings and filters out the strings that DO NOT contain vowels. "
   ]
  },
  {
   "cell_type": "code",
   "execution_count": null,
   "metadata": {},
   "outputs": [],
   "source": [
    "string_list = ['Sheldon','Pnny','Leonard','Hwrd','Rj','Amy','Strt']\n",
    "# output = ['Sheldon','Leonard','Amy']\n",
    "\n"
   ]
  },
  {
   "cell_type": "code",
   "execution_count": null,
   "metadata": {},
   "outputs": [],
   "source": [
    "def remove_vowels(arr)\n",
    "return [name for name in str_list if ]"
   ]
  },
  {
   "cell_type": "code",
   "execution_count": null,
   "metadata": {},
   "outputs": [],
   "source": [
    "def vowel(list1):\n",
    "    new_list = []\n",
    "    vowels = ['a', 'e', 'i', 'o', 'u']\n",
    "    for name in list1:\n",
    "        for letter in name:\n",
    "            if letter.lower() in vowels:\n",
    "                new_list.append(name)\n",
    "                break\n",
    "                \n",
    "    return new_list\n",
    "\n",
    "print(vowel(string_list))"
   ]
  },
  {
   "cell_type": "code",
   "execution_count": 9,
   "metadata": {},
   "outputs": [
    {
     "data": {
      "text/plain": [
       "['Sheldon', 'Leonard', 'Amy']"
      ]
     },
     "execution_count": 9,
     "metadata": {},
     "output_type": "execute_result"
    }
   ],
   "source": [
    "string_list = ['Sheldon','Pnny','Leonard','Hwrd','Rj','Amy','Strt']\n",
    "\n",
    "# Good way to do it\n",
    "def vowels(lists):\n",
    "    new_names = []\n",
    "    for name in lists:\n",
    "        for letter in name.lower():\n",
    "            if letter == 'a' or letter == 'e' or letter == 'i' or letter == 'o' or letter == 'u':\n",
    "                new_names.append(name)\n",
    "                break\n",
    "    return new_names\n",
    "vowels(string_list)"
   ]
  },
  {
   "cell_type": "code",
   "execution_count": null,
   "metadata": {},
   "outputs": [],
   "source": []
  },
  {
   "cell_type": "markdown",
   "metadata": {},
   "source": [
    "### Exercise 4\n",
    "Create a function that accepts a list as a parameter and returns a dictionary containing the list items as it's keys, and the number of times they appear in the list as the values"
   ]
  },
  {
   "cell_type": "code",
   "execution_count": 1,
   "metadata": {},
   "outputs": [],
   "source": [
    "example_list = [\"Harry\", 'Hermione','Harry','Ron','Dobby','Draco','Luna','Harry','Hermione','Ron','Ron','Ron']\n",
    "\n",
    "# output = {\n",
    "#     \"Harry\":3,\n",
    "#     \"Hermione\":2,\n",
    "#     \"Ron\":4,\n",
    "#     \"Dobby\":1,\n",
    "#     \"Draco\":1,\n",
    "#     \"Luna\": 1\n",
    "# }\n",
    "\n"
   ]
  },
  {
   "cell_type": "code",
   "execution_count": 4,
   "metadata": {},
   "outputs": [],
   "source": [
    "example_list = [\"Harry\", 'Hermione','Harry','Ron','Dobby','Draco','Luna','Harry','Hermione','Ron','Ron','Ron']\n",
    "\n",
    "def get_count_dict(input_list):\n",
    "    output_dict = {}\n",
    "\n",
    "    for item in input_list:\n",
    "        if output_dict.get(item) == None:\n",
    "            output_dict[item] = 1\n",
    "        else:\n",
    "            output_dict[item] = output_dict[item] +1\n",
    "    return output_dict"
   ]
  },
  {
   "cell_type": "code",
   "execution_count": 3,
   "metadata": {},
   "outputs": [
    {
     "data": {
      "text/plain": [
       "{'Harry': 3, 'Hermione': 2, 'Ron': 4, 'Dobby': 1, 'Draco': 1, 'Luna': 1}"
      ]
     },
     "execution_count": 3,
     "metadata": {},
     "output_type": "execute_result"
    }
   ],
   "source": [
    "def new_dict(lists):\n",
    "    empty_dict = {}\n",
    "    for name in lists:\n",
    "        if name not in empty_dict: \n",
    "            empty_dict[name] = 1 #adds name to dict\n",
    "        else: \n",
    "            empty_dict[name] += 1; #increments by 1 if name is in dict\n",
    "    return empty_dict\n",
    "new_dict(example_list)\n"
   ]
  },
  {
   "cell_type": "markdown",
   "metadata": {},
   "source": [
    "\n",
    "\n",
    "## Scope <br>\n",
    "<p>Scope refers to the ability to access variables, different types of scope include:<br>a) Global<br>b) Function (local)<br>c) Class (local)</p>"
   ]
  },
  {
   "cell_type": "code",
   "execution_count": null,
   "metadata": {},
   "outputs": [],
   "source": [
    "# placement of variable declaration matters\n",
    "name = \"Orlando Bloom\" # Global variable\n",
    "#global variable can be accessed by anything on that file\n",
    "\n",
    "def increment_stuff():\n",
    "    counter = 0 #locally scoped function variable\n",
    "    print(name)\n",
    "    while counter < 10:\n",
    "        counter +=1\n",
    "        print(counter)\n",
    "        \n",
    "    \n",
    "# print(counter) nameerror because counter is not defined outside of function\n",
    "\n",
    "increment_stuff()\n",
    "\n",
    "\n",
    "# c) Class (local)"
   ]
  },
  {
   "cell_type": "code",
   "execution_count": null,
   "metadata": {},
   "outputs": [],
   "source": [
    "# placement of variable declaration matters\n",
    "\n",
    "\n",
    "print(num1)"
   ]
  },
  {
   "cell_type": "markdown",
   "metadata": {},
   "source": [
    "## Modules"
   ]
  },
  {
   "cell_type": "markdown",
   "metadata": {},
   "source": [
    "##### Importing Entire Modules\n"
   ]
  },
  {
   "cell_type": "code",
   "execution_count": 6,
   "metadata": {},
   "outputs": [
    {
     "name": "stdout",
     "output_type": "stream",
     "text": [
      "2\n",
      "3\n"
     ]
    }
   ],
   "source": [
    "## Modules\n",
    "\n",
    "import math\n",
    "num = 5\n",
    "num2 = 2\n",
    "num3 = num//num2\n",
    "print(num3)\n",
    "\n",
    "print(math.ceil(5/2))\n",
    "\n",
    "print(math.pi)\n",
    "\n",
    "pie = math.pi\n",
    "\n",
    "print(pie)\n",
    "\n",
    "\n"
   ]
  },
  {
   "cell_type": "markdown",
   "metadata": {},
   "source": [
    "##### Importing Methods Only"
   ]
  },
  {
   "cell_type": "code",
   "execution_count": null,
   "metadata": {},
   "outputs": [],
   "source": [
    "# from xxx import yyy\n",
    "#from math import floor\n",
    "from math import floor\n",
    "print(floor(2.5))"
   ]
  },
  {
   "cell_type": "markdown",
   "metadata": {},
   "source": [
    "##### Using the 'as' Keyword"
   ]
  },
  {
   "cell_type": "code",
   "execution_count": 7,
   "metadata": {},
   "outputs": [
    {
     "name": "stdout",
     "output_type": "stream",
     "text": [
      "3.141592653589793\n",
      "3\n"
     ]
    }
   ],
   "source": [
    "# from xxx import yyy as z\n",
    "from math import floor as f, pi as p\n",
    "print(p)\n",
    "print(f(p))\n"
   ]
  },
  {
   "cell_type": "markdown",
   "metadata": {},
   "source": [
    "##### Creating a Module"
   ]
  },
  {
   "cell_type": "code",
   "execution_count": null,
   "metadata": {},
   "outputs": [],
   "source": [
    "from module import printName as pn\n",
    "\n"
   ]
  },
  {
   "cell_type": "code",
   "execution_count": null,
   "metadata": {},
   "outputs": [],
   "source": [
    "from module import printName as pn\n",
    "\n",
    "pn('Ryan')"
   ]
  },
  {
   "cell_type": "code",
   "execution_count": null,
   "metadata": {},
   "outputs": [],
   "source": []
  },
  {
   "cell_type": "markdown",
   "metadata": {},
   "source": [
    "# Homework Exercises"
   ]
  },
  {
   "cell_type": "markdown",
   "metadata": {},
   "source": [
    "### 1) Create a Module in VS Code and Import It into jupyter notebook <br>\n",
    "<p><b>Module should have the following capabilities:</b><br><br>\n",
    "1a) Has a function to calculate the square footage of a house <br>\n",
    "    <b>Reminder of Formula: Length X Width == Area</b><br>\n",
    "        <hr>\n",
    "1b) Has a function to calculate the circumference of a circle 2 Pi r <br><br>\n",
    "<b>Program in Jupyter Notebook should take in user input and use imported functions to calculate a circle's circumference or a houses square footage</b>\n",
    "</p>"
   ]
  },
  {
   "cell_type": "code",
   "execution_count": 8,
   "metadata": {},
   "outputs": [],
   "source": [
    "from module import printName\n"
   ]
  },
  {
   "cell_type": "code",
   "execution_count": 20,
   "metadata": {},
   "outputs": [
    {
     "name": "stdout",
     "output_type": "stream",
     "text": [
      "Hello Mr/Ms Grace...we've been waiting for you!\n"
     ]
    }
   ],
   "source": [
    "printName(\"Grace\")"
   ]
  },
  {
   "cell_type": "code",
   "execution_count": 28,
   "metadata": {},
   "outputs": [],
   "source": [
    "def solution():\n",
    "\n",
    "    input_1 = input(\"To calculate your square footage please type sqft or to calculate a circumference please type circ\")\n",
    "    \n",
    "    if input_1.lower() == \"sqft\":\n",
    "        length = int(input(\"Enter the value of length: \"))\n",
    "        width = int(input(\"Enter the value of width: \"))\n",
    "        area = (length * width)\n",
    "        print(area)\n",
    "    \n",
    "    elif input_1.lower() == \"circ\":\n",
    "        radius = int(input(\"Enter the value of radius: \"))\n",
    "        circum = (2 * 3.14 * radius)\n",
    "        print(circum)\n",
    "    \n",
    "    else:\n",
    "        print(\"Please select valid response\")\n",
    "        \n",
    "solution()\n",
    "\n",
    "\n"
   ]
  },
  {
   "cell_type": "code",
   "execution_count": null,
   "metadata": {},
   "outputs": [],
   "source": []
  },
  {
   "cell_type": "markdown",
   "metadata": {},
   "source": [
    "### 2) Build a Shopping Cart Function <br>\n",
    "<p><b>You can use either lists or dictionaries. The program should have the following capabilities:</b><br><br>\n",
    "1) Takes in input <br>\n",
    "2) Stores user input into a dictionary or list <br>\n",
    "3) The User can add or delete items <br>\n",
    "4) The User can see current shopping list <br>\n",
    "5) The program Loops until user 'quits' <br>\n",
    "6) Upon quiting the program, print out all items in the user's list <br>\n",
    "</p>"
   ]
  },
  {
   "cell_type": "code",
   "execution_count": null,
   "metadata": {},
   "outputs": [],
   "source": [
    "cart = {}\n",
    "\n",
    "def add(item, quan):\n",
    "    cart[item]=quan\n",
    "    print(f\"You've added {quan} {item}\")\n",
    "    \n",
    "def view():\n",
    "    print(cart)\n",
    "\n",
    "def remove(item, quan):\n",
    "    cart[item]-=quan\n",
    "    print(f\"You've removed {quan} {item}\")\n",
    "\n",
    "\n",
    "while True:\n",
    "        response = input(\"What would you like to do? add/delete/view/quit\")\n",
    "           \n",
    "        if response.strip().lower() == \"add\":\n",
    "                items = input(\"What item would you like to add?\")\n",
    "                quantity = input(\"How many?\")\n",
    "                add(items, quantity)\n",
    "                \n",
    "        elif response.strip().lower() == \"delete\":\n",
    "                deleted = input(\"What item/s would you like to delete?\")\n",
    "                howmanydel = input(\"How many would you like to delete?\")\n",
    "                remove(deleted, howmanydel)\n",
    "                \n",
    "        elif response.strip().lower() == \"view\":\n",
    "                view()\n",
    "\n",
    "\n",
    "            \n",
    "        elif response.strip().lower() == \"quit\":\n",
    "            view()\n",
    "            break\n",
    "            \n",
    "            \n",
    "        else:\n",
    "                print(\"Please enter valid response.\")\n",
    "\n",
    "# cart = {}\n",
    "\n",
    "# def add_item(user_cart):\n",
    "#     item = input(\"What would you like to add? \")\n",
    "#     quantity = int(input(f\"How many {item} would you like to add? \"))\n",
    "    \n",
    "#     if item not in user_cart:\n",
    "#         user_cart[item] = quantity\n",
    "#     else:\n",
    "#         user_cart[item] += quantity\n",
    "        \n",
    "# def remove_item(user_cart):\n",
    "#     item = input(\"What would you like to remove from your cart? \")\n",
    "#     del user_cart[item]\n",
    "    \n",
    "# def view_cart(user_cart):\n",
    "#     print(user_cart)\n",
    "    \n",
    "# def run(user_cart):\n",
    "#     while True:\n",
    "#         response = input(\"What would you like to do? add, remove, show, quit?\")\n",
    "#         if response.lower() == \"add\":\n",
    "#             add_item(user_cart)\n",
    "#         elif response.lower() == \"remove\":\n",
    "#             remove_item(user_cart)\n",
    "#         elif response.lower() == \"show\":\n",
    "#             view_cart(user_cart)\n",
    "#         elif response.lower() == \"quit\":\n",
    "            \n",
    "#             print(user_cart)\n",
    "#             break\n",
    "#         else:\n",
    "#             print(\"Please enter a valid response\")"
   ]
  }
 ],
 "metadata": {
  "kernelspec": {
   "display_name": "Python 3 (ipykernel)",
   "language": "python",
   "name": "python3"
  },
  "language_info": {
   "codemirror_mode": {
    "name": "ipython",
    "version": 3
   },
   "file_extension": ".py",
   "mimetype": "text/x-python",
   "name": "python",
   "nbconvert_exporter": "python",
   "pygments_lexer": "ipython3",
   "version": "3.11.5"
  }
 },
 "nbformat": 4,
 "nbformat_minor": 2
}
